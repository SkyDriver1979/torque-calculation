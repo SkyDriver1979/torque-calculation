{
  "cells": [
    {
      "cell_type": "markdown",
      "metadata": {
        "id": "view-in-github",
        "colab_type": "text"
      },
      "source": [
        "<a href=\"https://colab.research.google.com/github/SkyDriver1979/torque-calculation/blob/main/Torque_Calculation.ipynb\" target=\"_parent\"><img src=\"https://colab.research.google.com/assets/colab-badge.svg\" alt=\"Open In Colab\"/></a>"
      ]
    },
    {
      "cell_type": "code",
      "source": [
        "!sudo apt install tesseract-ocr libtesseract-dev\n",
        "!pip -q install pytesseract"
      ],
      "metadata": {
        "colab": {
          "base_uri": "https://localhost:8080/"
        },
        "collapsed": true,
        "id": "UImOS3ZEONwp",
        "outputId": "d7e96dbf-63a4-48f0-acbc-644fb2d32716"
      },
      "id": "UImOS3ZEONwp",
      "execution_count": 3,
      "outputs": [
        {
          "output_type": "stream",
          "name": "stdout",
          "text": [
            "Reading package lists... Done\n",
            "Building dependency tree... Done\n",
            "Reading state information... Done\n",
            "The following additional packages will be installed:\n",
            "  libarchive-dev libleptonica-dev tesseract-ocr-eng tesseract-ocr-osd\n",
            "The following NEW packages will be installed:\n",
            "  libarchive-dev libleptonica-dev libtesseract-dev tesseract-ocr\n",
            "  tesseract-ocr-eng tesseract-ocr-osd\n",
            "0 upgraded, 6 newly installed, 0 to remove and 45 not upgraded.\n",
            "Need to get 8,560 kB of archives.\n",
            "After this operation, 31.6 MB of additional disk space will be used.\n",
            "Get:1 http://archive.ubuntu.com/ubuntu jammy-updates/main amd64 libarchive-dev amd64 3.6.0-1ubuntu1.1 [582 kB]\n",
            "Get:2 http://archive.ubuntu.com/ubuntu jammy/universe amd64 libleptonica-dev amd64 1.82.0-3build1 [1,562 kB]\n",
            "Get:3 http://archive.ubuntu.com/ubuntu jammy/universe amd64 libtesseract-dev amd64 4.1.1-2.1build1 [1,600 kB]\n",
            "Get:4 http://archive.ubuntu.com/ubuntu jammy/universe amd64 tesseract-ocr-eng all 1:4.00~git30-7274cfa-1.1 [1,591 kB]\n",
            "Get:5 http://archive.ubuntu.com/ubuntu jammy/universe amd64 tesseract-ocr-osd all 1:4.00~git30-7274cfa-1.1 [2,990 kB]\n",
            "Get:6 http://archive.ubuntu.com/ubuntu jammy/universe amd64 tesseract-ocr amd64 4.1.1-2.1build1 [236 kB]\n",
            "Fetched 8,560 kB in 2s (4,556 kB/s)\n",
            "debconf: unable to initialize frontend: Dialog\n",
            "debconf: (No usable dialog-like program is installed, so the dialog based frontend cannot be used. at /usr/share/perl5/Debconf/FrontEnd/Dialog.pm line 78, <> line 6.)\n",
            "debconf: falling back to frontend: Readline\n",
            "debconf: unable to initialize frontend: Readline\n",
            "debconf: (This frontend requires a controlling tty.)\n",
            "debconf: falling back to frontend: Teletype\n",
            "dpkg-preconfigure: unable to re-open stdin: \n",
            "Selecting previously unselected package libarchive-dev:amd64.\n",
            "(Reading database ... 123589 files and directories currently installed.)\n",
            "Preparing to unpack .../0-libarchive-dev_3.6.0-1ubuntu1.1_amd64.deb ...\n",
            "Unpacking libarchive-dev:amd64 (3.6.0-1ubuntu1.1) ...\n",
            "Selecting previously unselected package libleptonica-dev.\n",
            "Preparing to unpack .../1-libleptonica-dev_1.82.0-3build1_amd64.deb ...\n",
            "Unpacking libleptonica-dev (1.82.0-3build1) ...\n",
            "Selecting previously unselected package libtesseract-dev:amd64.\n",
            "Preparing to unpack .../2-libtesseract-dev_4.1.1-2.1build1_amd64.deb ...\n",
            "Unpacking libtesseract-dev:amd64 (4.1.1-2.1build1) ...\n",
            "Selecting previously unselected package tesseract-ocr-eng.\n",
            "Preparing to unpack .../3-tesseract-ocr-eng_1%3a4.00~git30-7274cfa-1.1_all.deb ...\n",
            "Unpacking tesseract-ocr-eng (1:4.00~git30-7274cfa-1.1) ...\n",
            "Selecting previously unselected package tesseract-ocr-osd.\n",
            "Preparing to unpack .../4-tesseract-ocr-osd_1%3a4.00~git30-7274cfa-1.1_all.deb ...\n",
            "Unpacking tesseract-ocr-osd (1:4.00~git30-7274cfa-1.1) ...\n",
            "Selecting previously unselected package tesseract-ocr.\n",
            "Preparing to unpack .../5-tesseract-ocr_4.1.1-2.1build1_amd64.deb ...\n",
            "Unpacking tesseract-ocr (4.1.1-2.1build1) ...\n",
            "Setting up tesseract-ocr-eng (1:4.00~git30-7274cfa-1.1) ...\n",
            "Setting up libleptonica-dev (1.82.0-3build1) ...\n",
            "Setting up libarchive-dev:amd64 (3.6.0-1ubuntu1.1) ...\n",
            "Setting up tesseract-ocr-osd (1:4.00~git30-7274cfa-1.1) ...\n",
            "Setting up libtesseract-dev:amd64 (4.1.1-2.1build1) ...\n",
            "Setting up tesseract-ocr (4.1.1-2.1build1) ...\n",
            "Processing triggers for man-db (2.10.2-1) ...\n"
          ]
        }
      ]
    },
    {
      "cell_type": "code",
      "execution_count": 4,
      "id": "4d0e45e3-b1e7-4065-b20b-10603b65d774",
      "metadata": {
        "id": "4d0e45e3-b1e7-4065-b20b-10603b65d774"
      },
      "outputs": [],
      "source": [
        "import cv2\n",
        "import numpy as np\n",
        "import matplotlib.pyplot as plt\n",
        "import pytesseract\n",
        "from operator import itemgetter\n",
        "%matplotlib inline"
      ]
    },
    {
      "cell_type": "code",
      "execution_count": null,
      "id": "435518d1-9cec-4ca6-bf0b-a064a3913e13",
      "metadata": {
        "id": "435518d1-9cec-4ca6-bf0b-a064a3913e13",
        "cellView": "form"
      },
      "outputs": [],
      "source": [
        "# @title Default title text\n",
        "diagram = cv2.imread(\"diagram.jpg\")\n",
        "plt.imshow(diagram[:,:,::-1])\n",
        "#cv2.imwrite(\"diagram.jpg\", diagram)"
      ]
    },
    {
      "cell_type": "code",
      "source": [
        "# @title Input parameters\n",
        "screenshot = 'file.jpg' # @param {type:\"string\"}\n",
        "gear_1 = 2.923 # @param {type:\"number\"}\n",
        "gear_2 = 2.267 # @param {type:\"number\"}\n",
        "gear_3 = 1.75 # @param {type:\"number\"}\n",
        "gear_4 = 1.444 # @param {type:\"number\"}\n",
        "gear_5 = 1.19 # @param {type:\"number\"}\n",
        "gear_6 = 1 # @param {type:\"number\"}\n",
        "gear_7 = 0 # @param {type:\"number\"}\n",
        "rear_end_ratio = 2.95 # @param {type:\"number\"}\n",
        "tyre_diameter_in_meters = 0.698 # @param {type:\"number\"}"
      ],
      "metadata": {
        "id": "cwILrjP0APcw"
      },
      "id": "cwILrjP0APcw",
      "execution_count": 8,
      "outputs": []
    },
    {
      "cell_type": "code",
      "execution_count": 6,
      "id": "0e7ade9f-6ee0-4c1e-9800-37c450b16830",
      "metadata": {
        "id": "0e7ade9f-6ee0-4c1e-9800-37c450b16830",
        "cellView": "form"
      },
      "outputs": [],
      "source": [
        "# @title Processing Functions\n",
        "\n",
        "def extract_text(image):\n",
        "    gray_image = cv2.cvtColor(image, cv2.COLOR_BGR2GRAY)\n",
        "    denoised_image = cv2.fastNlMeansDenoising(gray_image, None, 10, 7, 21)\n",
        "    return pytesseract.image_to_string(denoised_image)\n",
        "\n",
        "def extract_diagram_image(image, diagram):\n",
        "    match_result = cv2.matchTemplate(image, diagram, cv2.TM_CCOEFF)\n",
        "    min_val, max_val, min_loc, max_loc = cv2.minMaxLoc(match_result)\n",
        "    h = max_loc[1]\n",
        "    w = max_loc[0]\n",
        "    matched_diagram = image[h:h+diagram.shape[0],w:w+diagram.shape[1],:]\n",
        "    return matched_diagram\n",
        "\n",
        "def extract_numbers(image):\n",
        "    def extract_digits(text):\n",
        "        return ''.join(c for c in text if c.isdigit())\n",
        "\n",
        "    text = extract_text(image).split(\"\\n\")\n",
        "    text = [line for line in text if len(extract_digits(line))>0]\n",
        "    bph_max = int(extract_digits(text[0]))\n",
        "    kgfm_max = int(extract_digits(text[1]))\n",
        "    rpm_text = [line for line in text if \"rpm\" in line][0]\n",
        "    rpm_split = rpm_text.split(\"rpm\")\n",
        "    rpm_min = int(extract_digits(rpm_split[0]))\n",
        "    rpm_max = int(extract_digits(rpm_split[1]))\n",
        "    return rpm_min, rpm_max, kgfm_max, bph_max\n",
        "\n",
        "def extract_car_name(image):\n",
        "    ratio = image.shape[0]/2160\n",
        "    h_min = int(420 * ratio)\n",
        "    h_max = int(500 * ratio)\n",
        "    w_max = int(900 * ratio)\n",
        "    return extract_text(image[h_min:h_max,:w_max,:]).strip()\n",
        "\n",
        "\n",
        "def find_coordinates(gray_diagram, colour_diagram):\n",
        "    def is_cyan(pixel):\n",
        "        return pixel[0] / pixel[2] >= 1.3 and pixel[1] / pixel[2] >= 1.3\n",
        "\n",
        "    def is_bhp_region(region, x, ymin, colour_diagram):\n",
        "        for y in range(region[0],region[1]+1):\n",
        "            if is_cyan(colour_diagram[y+ymin,x]):\n",
        "                return True\n",
        "        return False\n",
        "\n",
        "    def find_regions(slice):\n",
        "        #print(slice.shape)\n",
        "        result = []\n",
        "        in_region = False\n",
        "        region_start = 0\n",
        "        for i in range(len(slice)):\n",
        "            if in_region:\n",
        "                if not slice[i]:\n",
        "                    in_region = False\n",
        "                    result.append((region_start,i-1))\n",
        "            else:\n",
        "                if slice[i]:\n",
        "                    region_start = i\n",
        "                    in_region = True\n",
        "        if in_region:\n",
        "            result.append((region_start,len(slice)-1))\n",
        "        return result\n",
        "\n",
        "    kgfm = []\n",
        "    bhp = []\n",
        "    working_diagram = gray_diagram > 100\n",
        "\n",
        "    xaxis = np.count_nonzero(gray_matched_diagram > 60,axis=0) > gray_matched_diagram.shape[0] * 0.5\n",
        "    #find where X axis begin in image\n",
        "    for i in range(len(xaxis)//2):\n",
        "        if xaxis[i]:\n",
        "            xmin = i\n",
        "            break\n",
        "\n",
        "    #find where X axis ends in the image\n",
        "    for i in range(len(xaxis)//2,len(xaxis)):\n",
        "        if xaxis[i]:\n",
        "            xmax = i\n",
        "\n",
        "    #find where is Y start\n",
        "    yaxis = np.count_nonzero(working_diagram,axis=1) > gray_matched_diagram.shape[1] * 0.5\n",
        "    for i in range(len(yaxis)):\n",
        "        if yaxis[i]:\n",
        "            ymax = i\n",
        "            break\n",
        "\n",
        "    #find where diagram stgart on Y axis\n",
        "    yaxis = np.count_nonzero(gray_matched_diagram < 45,axis=1) > gray_matched_diagram.shape[1] * 0.5\n",
        "    for i in range(len(yaxis)):\n",
        "        if yaxis[i]:\n",
        "            ymin = i\n",
        "            break\n",
        "    #print(xmin,xmax,ymin,ymax)\n",
        "\n",
        "    for x in range(xmin, xmax+1):\n",
        "        found_kgfm = None\n",
        "        found_bhp = None\n",
        "        regions = find_regions(working_diagram[ymin:ymax,x])\n",
        "        if len(regions) >= 3:\n",
        "            regions = regions[-2:]\n",
        "        if len(regions) == 2:\n",
        "            for region in regions:\n",
        "                if is_bhp_region(region, x, ymin, colour_diagram):\n",
        "                    found_bhp = region\n",
        "                else:\n",
        "                    found_kgfm = region\n",
        "        else:\n",
        "            found_kgfm = region\n",
        "\n",
        "        if found_bhp is not None:\n",
        "            bhp.append((x,ymax - found_bhp[0]))\n",
        "        if found_kgfm is not None:\n",
        "            kgfm.append((x, ymax - found_kgfm[0]))\n",
        "    return kgfm , bhp\n",
        "\n",
        "def normalize_values(values, rpm_min, rpm_max, y_out_max):\n",
        "    def linear_function(x1, y1, x2, y2):\n",
        "        a = (y2-y1)/(x2-x1)\n",
        "        b = y1 - a * x1\n",
        "        return a, b\n",
        "    y_in_max = max(values, key=itemgetter(1))[1]\n",
        "    rpm_in_min = values[0][0]\n",
        "    rpm_in_max = values[-1][0]\n",
        "    rpm_a, rpm_b = linear_function(rpm_in_min,rpm_min, rpm_in_max, rpm_max)\n",
        "    y_a, y_b = linear_function(0, 0, y_in_max, y_out_max)\n",
        "\n",
        "    return [(rpm_a * x + rpm_b, y_a * y + y_b) for x, y in values]"
      ]
    },
    {
      "cell_type": "code",
      "execution_count": null,
      "id": "0e145857-0377-4acf-90ee-031da6e32f18",
      "metadata": {
        "id": "0e145857-0377-4acf-90ee-031da6e32f18"
      },
      "outputs": [],
      "source": [
        "img = cv2.imread(\"digit\\\\5.jpg\",cv2.IMREAD_COLOR)\n",
        "matched_diagram = extract_diagram_image(img, diagram)\n",
        "gray_matched_diagram = cv2.cvtColor(matched_diagram, cv2.COLOR_BGR2GRAY)\n",
        "\n",
        "\n",
        "plt.imshow(matched_diagram[:,:,::-1])\n",
        "\n",
        "\n",
        "kgfm, bhp = find_coordinates(gray_matched_diagram,matched_diagram)\n",
        "rpm_min, rpm_max, kgfm_max, bhp_max = extract_numbers(matched_diagram)\n",
        "\n",
        "normalized_kgfm = normalize_values(kgfm, rpm_min, rpm_max, kgfm_max)\n",
        "normalized_bhp = normalize_values(bhp, rpm_min, rpm_max, bhp_max)"
      ]
    },
    {
      "cell_type": "code",
      "execution_count": null,
      "id": "a34a7f86-1bd4-42c9-99c6-7bbbf19d5ca8",
      "metadata": {
        "id": "a34a7f86-1bd4-42c9-99c6-7bbbf19d5ca8",
        "outputId": "2497120e-861f-49f1-f65d-986e5be2a350"
      },
      "outputs": [
        {
          "name": "stdout",
          "output_type": "stream",
          "text": [
            "(1000, 7500, 85, 774)\n",
            "Mercedes-AMG GT3 '16\n",
            "(6017.3852573018075, 85.0)\n",
            "(7009.09090909091, 774.0)\n"
          ]
        }
      ],
      "source": [
        "print(extract_numbers(matched_diagram))\n",
        "print(extract_car_name(img))\n",
        "print(max(normalized_kgfm, key=itemgetter(1)))\n",
        "print(max(normalized_bhp, key=itemgetter(1)))\n"
      ]
    },
    {
      "cell_type": "code",
      "execution_count": null,
      "id": "2d36f3a0-c315-446a-a691-7f59e676c15d",
      "metadata": {
        "id": "2d36f3a0-c315-446a-a691-7f59e676c15d"
      },
      "outputs": [],
      "source": []
    }
  ],
  "metadata": {
    "kernelspec": {
      "display_name": "Python [conda env:opencv-env] *",
      "language": "python",
      "name": "conda-env-opencv-env-py"
    },
    "language_info": {
      "codemirror_mode": {
        "name": "ipython",
        "version": 3
      },
      "file_extension": ".py",
      "mimetype": "text/x-python",
      "name": "python",
      "nbconvert_exporter": "python",
      "pygments_lexer": "ipython3",
      "version": "3.12.4"
    },
    "colab": {
      "provenance": [],
      "include_colab_link": true
    }
  },
  "nbformat": 4,
  "nbformat_minor": 5
}